{
 "cells": [
  {
   "cell_type": "code",
   "execution_count": 2,
   "id": "6f285d1d-adc9-47eb-8e4b-42a0a9f10110",
   "metadata": {},
   "outputs": [],
   "source": [
    "import pandas as pd\n",
    "import numpy as np\n",
    "from sklearn.metrics.pairwise import cosine_similarity\n",
    "from sklearn.preprocessing import StandardScaler"
   ]
  },
  {
   "cell_type": "code",
   "execution_count": 3,
   "id": "e6ffee78-c7e7-4e3b-855a-45322d145558",
   "metadata": {},
   "outputs": [],
   "source": [
    "customers = pd.read_csv(r\"C:\\Users\\ADMIN\\Downloads\\Customers.csv\")\n",
    "products = pd.read_csv(r\"C:\\Users\\ADMIN\\Downloads\\Products.csv\")\n",
    "transactions = pd.read_csv(r\"C:\\Users\\ADMIN\\Downloads\\Transactions.csv\")"
   ]
  },
  {
   "cell_type": "code",
   "execution_count": 4,
   "id": "c071a4ac-4264-4f9e-9ed2-392049988d92",
   "metadata": {},
   "outputs": [],
   "source": [
    "customers['SignupDate'] = pd.to_datetime(customers['SignupDate'])\n",
    "transactions['TransactionDate'] = pd.to_datetime(transactions['TransactionDate'])"
   ]
  },
  {
   "cell_type": "code",
   "execution_count": 5,
   "id": "dc4a02f2-5d5b-4429-881b-cd7340ab891d",
   "metadata": {},
   "outputs": [],
   "source": [
    "transactions = transactions.merge(customers, on=\"CustomerID\", how=\"left\")\n",
    "transactions = transactions.merge(products, on=\"ProductID\", how=\"left\")"
   ]
  },
  {
   "cell_type": "code",
   "execution_count": 6,
   "id": "6f739875-458c-4ee8-88ab-bbca5809e37b",
   "metadata": {},
   "outputs": [],
   "source": [
    "customer_features = transactions.groupby('CustomerID').agg(\n",
    "    total_spent=('TotalValue', 'sum'),\n",
    "    avg_spent=('TotalValue', 'mean'),\n",
    "    total_transactions=('TransactionID', 'count'),\n",
    "    unique_categories=('Category', 'nunique')\n",
    ").reset_index()"
   ]
  },
  {
   "cell_type": "code",
   "execution_count": 7,
   "id": "7b44fa54-2545-4a12-b2d1-81e7ef7b5df1",
   "metadata": {},
   "outputs": [],
   "source": [
    "customer_profiles = customers.merge(customer_features, on=\"CustomerID\", how=\"left\").fillna(0)"
   ]
  },
  {
   "cell_type": "code",
   "execution_count": 8,
   "id": "3da7cfd6-4a13-441b-a2bd-38104f9dd005",
   "metadata": {},
   "outputs": [],
   "source": [
    "customer_profiles = pd.get_dummies(customer_profiles, columns=['Region'], drop_first=True)"
   ]
  },
  {
   "cell_type": "code",
   "execution_count": 9,
   "id": "c7310d67-664a-46cc-80d9-352f92856293",
   "metadata": {},
   "outputs": [],
   "source": [
    "scaler = StandardScaler()\n",
    "feature_cols = ['total_spent', 'avg_spent', 'total_transactions', 'unique_categories'] + \\\n",
    "               [col for col in customer_profiles.columns if col.startswith(\"Region_\")]\n",
    "scaled_features = scaler.fit_transform(customer_profiles[feature_cols])"
   ]
  },
  {
   "cell_type": "code",
   "execution_count": 10,
   "id": "a3e09119-f669-4519-bc7a-0e31c1d078ad",
   "metadata": {},
   "outputs": [],
   "source": [
    "similarity_matrix = cosine_similarity(scaled_features)"
   ]
  },
  {
   "cell_type": "code",
   "execution_count": 12,
   "id": "4ee3c497-b9fa-4f57-bbb7-6f683f9f0148",
   "metadata": {},
   "outputs": [],
   "source": [
    "lookalikes = {}\n",
    "customer_ids = customer_profiles['CustomerID'].values\n",
    "\n",
    "for idx, cust_id in enumerate(customer_ids[:20]):  # First 20 customers (C0001 - C0020)\n",
    "    similarity_scores = list(enumerate(similarity_matrix[idx]))\n",
    "    sorted_scores = sorted(similarity_scores, key=lambda x: x[1], reverse=True)[1:4]\n",
    "    lookalikes[cust_id] = [(customer_ids[i], round(score, 4)) for i, score in sorted_scores]"
   ]
  },
  {
   "cell_type": "code",
   "execution_count": 13,
   "id": "4f6a374b-dacd-4649-82fa-10d06adf0fed",
   "metadata": {},
   "outputs": [
    {
     "name": "stdout",
     "output_type": "stream",
     "text": [
      "Lookalike.csv has been generated!\n"
     ]
    }
   ],
   "source": [
    "lookalike_df = pd.DataFrame([{'CustomerID': cust, 'Lookalikes': str(lookalikes[cust])} \n",
    "                             for cust in lookalikes])\n",
    "lookalike_df.to_csv(\"Lookalike.csv\", index=False)\n",
    "\n",
    "print(\"Lookalike.csv has been generated!\")"
   ]
  },
  {
   "cell_type": "code",
   "execution_count": null,
   "id": "39f03cbb-8890-48e6-8e6f-1ae7c708e698",
   "metadata": {},
   "outputs": [],
   "source": []
  }
 ],
 "metadata": {
  "kernelspec": {
   "display_name": "Python 3 (ipykernel)",
   "language": "python",
   "name": "python3"
  },
  "language_info": {
   "codemirror_mode": {
    "name": "ipython",
    "version": 3
   },
   "file_extension": ".py",
   "mimetype": "text/x-python",
   "name": "python",
   "nbconvert_exporter": "python",
   "pygments_lexer": "ipython3",
   "version": "3.12.0"
  }
 },
 "nbformat": 4,
 "nbformat_minor": 5
}
